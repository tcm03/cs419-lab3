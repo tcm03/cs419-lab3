{
 "cells": [
  {
   "cell_type": "markdown",
   "metadata": {},
   "source": [
    "# ASSIGNMENT 3: TEXT-BASED SEARCH ENGINE"
   ]
  },
  {
   "cell_type": "markdown",
   "metadata": {},
   "source": [
    "Full name: Tu Canh Minh\n",
    "\n",
    "MSSV: 21125019\n",
    "\n",
    "Class: 21CTT\n",
    "\n",
    "---"
   ]
  },
  {
   "cell_type": "markdown",
   "metadata": {},
   "source": [
    "## Introduction\n",
    "\n",
    "In assignment 1, I have built a simple crawler to collect news articles from tuoitre.vn. The collected dataset contains multiple articles in various categories in Vietnamese. In this assignment, I will build a text-based search engine to search for articles based on the user's query. The search engine will return the most relevant articles based on the query."
   ]
  },
  {
   "cell_type": "markdown",
   "metadata": {},
   "source": [
    "## Preprocessing"
   ]
  },
  {
   "cell_type": "markdown",
   "metadata": {},
   "source": [
    "Since the dataset is in Vietnamese, I choose the RDR segmenter from the VNCoreNLP framework to tokenize the text:\n",
    "\n",
    "https://github.com/vncorenlp/VnCoreNLP\n",
    "\n",
    "The RDR segmenter is a rule-based segmenter that is specifically designed for Vietnamese text. The segmenter is able to handle the segmentation of Vietnamese text better than the default segmenter in the NLTK library."
   ]
  },
  {
   "cell_type": "markdown",
   "metadata": {},
   "source": [
    "!pip install py_vncorenlp -q"
   ]
  }
 ],
 "metadata": {
  "language_info": {
   "name": "python"
  }
 },
 "nbformat": 4,
 "nbformat_minor": 2
}
